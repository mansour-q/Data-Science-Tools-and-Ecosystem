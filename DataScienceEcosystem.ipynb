{
 "cells": [
  {
   "cell_type": "markdown",
   "id": "d6cd7ed7-4eff-4cbe-92ed-0eae68bdf71a",
   "metadata": {},
   "source": [
    "# Data Science Tools and Ecosystem\r\n"
   ]
  },
  {
   "cell_type": "markdown",
   "id": "afe87c3c-9106-45e0-be62-21c749b64c35",
   "metadata": {},
   "source": [
    "# In this notebook, Data Science Tools and Ecosystem are summarized.\r\n"
   ]
  },
  {
   "cell_type": "markdown",
   "id": "c3ed3eaf-ec01-4b89-b4d2-b1018ecbe017",
   "metadata": {
    "jp-MarkdownHeadingCollapsed": true
   },
   "source": [
    "# Some of the popular languages that Data Scientists use are:\n",
    "1. julia \n",
    "2. java\n",
    "3. python\n",
    "4. R\n",
    "5. language \n"
   ]
  },
  {
   "cell_type": "markdown",
   "id": "9c81030c-099f-46f0-86ff-d17541fbd91d",
   "metadata": {},
   "source": [
    "# Some of the commonly used libraries used by Data Scientists include: \n",
    "1. pandas\n",
    "2. numpy\n",
    "3. Matplotlib,\n",
    "4.  Seaborn\n"
   ]
  },
  {
   "cell_type": "markdown",
   "id": "49480dbf-22fa-473a-b5e1-240d15a0bbde",
   "metadata": {},
   "source": [
    "|\n",
    "Data Science Tool|\n",
    "|:-----------------|\n",
    "|\r\n",
    "Mongo         | \n",
    "| B\r\n",
    "Apa he Spark |\n",
    "| QL\r\n",
    "Tensor      |FlowFlow"
   ]
  },
  {
   "cell_type": "markdown",
   "id": "27426a6b-8c1a-47c1-bbc8-0499ade858dc",
   "metadata": {},
   "source": [
    "### Below are a few examples of evaluating arithmetic expressions in Python.\r\n"
   ]
  },
  {
   "cell_type": "code",
   "execution_count": 11,
   "id": "881e1378-d085-46f7-9933-92d0cc68867a",
   "metadata": {},
   "outputs": [
    {
     "data": {
      "text/plain": [
       "17"
      ]
     },
     "execution_count": 11,
     "metadata": {},
     "output_type": "execute_result"
    }
   ],
   "source": [
    "# This a simple arithmetic expression to mutiply then add integers\n",
    "(3*4)+5  "
   ]
  },
  {
   "cell_type": "code",
   "execution_count": 13,
   "id": "2f291874-ade1-4f62-92b8-2372a12b89ed",
   "metadata": {},
   "outputs": [
    {
     "data": {
      "text/plain": [
       "3.3333333333333335"
      ]
     },
     "execution_count": 13,
     "metadata": {},
     "output_type": "execute_result"
    }
   ],
   "source": [
    "# This will convert 200 minutes to hours by diving by 60\n",
    "200 / 60"
   ]
  },
  {
   "cell_type": "markdown",
   "id": "c5c55f5c-36a9-4da5-b91f-5a2b700ab368",
   "metadata": {},
   "source": [
    "| objective: |\n",
    "|:-----------|\n",
    "|python|\n",
    "|R|\n",
    "|SQL|"
   ]
  },
  {
   "cell_type": "markdown",
   "id": "e2bf9932-46bc-4846-90e9-cd135a78b4f9",
   "metadata": {},
   "source": [
    "# Author \n",
    "## mansour"
   ]
  },
  {
   "cell_type": "code",
   "execution_count": null,
   "id": "5163914d-ffec-4104-9790-7bd78cccb0a9",
   "metadata": {},
   "outputs": [],
   "source": []
  }
 ],
 "metadata": {
  "kernelspec": {
   "display_name": "Python 3 (ipykernel)",
   "language": "python",
   "name": "python3"
  },
  "language_info": {
   "codemirror_mode": {
    "name": "ipython",
    "version": 3
   },
   "file_extension": ".py",
   "mimetype": "text/x-python",
   "name": "python",
   "nbconvert_exporter": "python",
   "pygments_lexer": "ipython3",
   "version": "3.11.5"
  }
 },
 "nbformat": 4,
 "nbformat_minor": 5
}
